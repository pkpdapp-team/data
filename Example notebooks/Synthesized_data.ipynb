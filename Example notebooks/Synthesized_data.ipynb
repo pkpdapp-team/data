{
 "cells": [
  {
   "cell_type": "code",
   "execution_count": 7,
   "metadata": {},
   "outputs": [],
   "source": [
    "# In[import all packages] :\n",
    "\"\"\"\n",
    "Pints and myokit should be installed before (follow instruction from Github)\n",
    "\"\"\"\n",
    "\n",
    "import numpy as np\n",
    "import matplotlib.pyplot as plt\n",
    "import pints\n",
    "import myokit\n",
    "\n",
    "\n",
    "# In[Initialization] :\n",
    "\"\"\"\n",
    "Call model from myokit \n",
    "\n",
    "\"\"\"\n",
    "\n",
    "m = myokit.load_model('ThreeCompartment_IV_Model.mmt') #path for the model file \n",
    "p = myokit.load_protocol('protocol_New.mmt') #path for the protocol file(e.g. dose regimen)\n",
    "\n",
    "ref = myokit.Simulation(m, p) #set up myokit model: input model and protocol \n",
    "save_state = ref.state()  #save the original initial state \n",
    "\n",
    "# Total  amount of drug dosed: 1mg/kg, 5mg/kg and 15mg/kg dose for mice (unit ng)\n",
    "TotalDoseLevel= np.array([25000, 125000, 375000])\n",
    "\n",
    "# Change DoseLevel to dosing per time unit\n",
    "event_duration = p.events()[0].duration() # Extract duration of the dosing event from the protocol\n",
    "DoseLevel = TotalDoseLevel / event_duration\n"
   ]
  },
  {
   "cell_type": "markdown",
   "metadata": {},
   "source": []
  },
  {
   "cell_type": "code",
   "execution_count": 5,
   "metadata": {},
   "outputs": [
    {
     "data": {
      "image/png": "[encoded data removed]",
      "text/plain": "<Figure size 432x288 with 1 Axes>"
     },
     "metadata": {
      "needs_background": "light"
     },
     "output_type": "display_data"
    },
    {
     "name": "stdout",
     "output_type": "stream",
     "text": [
      "[[  538.77514605  2508.55767624  8283.21211856]\n",
      " [  262.14224187  1127.94491914  3688.04963215]\n",
      " [  204.48301451   793.71142433  2714.32197624]\n",
      " [  588.36854382  3662.8484028  10850.20910731]\n",
      " [  812.7449997   4044.27460194 13334.1599178 ]]\n"
     ]
    }
   ],
   "source": [
    "# In[Define Model]\n",
    "\"\"\"\n",
    "set up model compatible for pints, i.e. a class that takes parameters and\n",
    "times        \n",
    "\"\"\"\n",
    "class MyokitModel(pints.ForwardModel):\n",
    "    \n",
    "    def __init__(self):\n",
    "        m = myokit.load_model('ThreeCompartment_IV_Model.mmt') #path for the model file \n",
    "        p = myokit.load_protocol('protocol_New.mmt')#path for the protocol file(e.g. dose regimen)\n",
    "      \n",
    "        self.simulation = myokit.Simulation(m, p) #define simulation (i.e. run the model via myokit)\n",
    "\n",
    "    def n_parameters(self):\n",
    "        return 6 # number of parameters to Fit\n",
    "\n",
    "    def simulate(self, parameters, times):\n",
    "        Drug_Central = []\n",
    "        \n",
    "       #setting up simulation parameters \n",
    "        self.simulation.set_state(save_state)\n",
    "        self.simulation.reset()     \n",
    "        self.simulation.set_time(0)\n",
    "        self.simulation.set_constant('AllCompartment.CL', parameters[0]) # define parameter \n",
    "        self.simulation.set_constant('AllCompartment.Vc', parameters[1]) # define parameter \n",
    "        self.simulation.set_constant('AllCompartment.Qp1', parameters[2]) # define parameter \n",
    "        self.simulation.set_constant('AllCompartment.Vp1', parameters[3]) # define parameter \n",
    "        self.simulation.set_constant('AllCompartment.Qp2', parameters[4]) # define parameter \n",
    "        self.simulation.set_constant('AllCompartment.Vp2', parameters[5]) # define parameter\n",
    "                                 \n",
    "        # simulating multiple dose levels\n",
    "        var_to_log = 'AllCompartment.Drug_Concentration_Central'\n",
    "        \n",
    "        DoseAmounts=DoseLevel # Define dose level, can move this line to the initialization part \n",
    "        for i in range(len(DoseAmounts)):\n",
    "            self.simulation.reset()  \n",
    "            self.simulation.set_constant('dose.doseAmount', float(DoseAmounts[i]))\n",
    "            Output = self.simulation.run(times[-1]+1, log=[var_to_log], log_times = times)\n",
    "            Drug_Central.append(Output[var_to_log])\n",
    "        \n",
    "        return np.array(Drug_Central).T\n",
    "\n",
    "# Then create an instance of our new model class\n",
    "ThreeCompModel = MyokitModel()\n",
    "\n",
    "# In[Run a test simulation]\n",
    "param_test=[3,5,8,50,2,10] \n",
    "\n",
    "times= [1,2,7,9,17]\n",
    "\n",
    "# run a test simulation\n",
    "TestSimulation=ThreeCompModel.simulate(param_test ,times)\n",
    "TestSimulation=np.asarray([v+ np.random.normal(0,0.1*v, v.shape) for v in TestSimulation])\n",
    "# Plot the result\n",
    "fig = plt.figure()\n",
    "ax = fig.add_subplot(1, 1, 1)\n",
    "for i, trace in enumerate(TestSimulation.T):\n",
    "    plt.plot(times, trace, 'o', label=TotalDoseLevel[i])\n",
    "ax.set_yscale('log')\n",
    "plt.legend()\n",
    "plt.show()\n",
    "#np.savetxt(\"results.csv\", TestSimulation, delimiter=\",\")"
   ]
  }
 ],
 "metadata": {
  "kernelspec": {
   "display_name": "Python 3.9.5 64-bit",
   "name": "python395jvsc74a57bd04cd7ab41f5fca4b9b44701077e38c5ffd31fe66a6cab21e0214b68d958d0e462"
  },
  "language_info": {
   "codemirror_mode": {
    "name": "ipython",
    "version": 3
   },
   "file_extension": ".py",
   "mimetype": "text/x-python",
   "name": "python",
   "nbconvert_exporter": "python",
   "pygments_lexer": "ipython3",
   "version": "3.9.5"
  },
  "metadata": {
   "interpreter": {
    "hash": "4cd7ab41f5fca4b9b44701077e38c5ffd31fe66a6cab21e0214b68d958d0e462"
   }
  },
  "orig_nbformat": 2
 },
 "nbformat": 4,
 "nbformat_minor": 2
}