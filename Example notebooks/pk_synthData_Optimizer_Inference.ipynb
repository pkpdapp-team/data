{
 "cells": [
  {
   "cell_type": "code",
   "execution_count": 1,
   "metadata": {},
   "outputs": [
    {
     "name": "stdout",
     "output_type": "stream",
     "text": [
      "[1, 2, 4, 5, 7, 9, 11, 14, 17, 20, 22, 24]\n",
      "{'time': [1, 2, 4, 5, 7, 9, 11, 14, 17, 20, 22, 24], 'observation': array([[  583.46137547,   246.82433903,   213.82515585,   214.80860026,\n",
      "          183.27775435,   710.02521528,   376.0158776 ,   336.3074754 ,\n",
      "          895.32938758,   486.22775838,   400.81551332,   392.94214072],\n",
      "       [ 2839.71675527,  1183.05320661,   961.85044465,   990.41261177,\n",
      "          991.55521232,  3482.78372461,  1956.38795871,  1632.0449481 ,\n",
      "         3931.92045854,  2459.93852571,  2124.89942851,  2187.91494215],\n",
      "       [ 8107.18318783,  3706.78343625,  3003.57520859,  2942.0398813 ,\n",
      "         2659.53032645, 11023.73218378,  5390.42259348,  5219.99703665,\n",
      "        13130.62042913,  7725.09812794,  6880.88972243,  5956.5097744 ]])}\n",
      "['#636EFA', '#EF553B', '#00CC96', '#AB63FA', '#FFA15A', '#19D3F3', '#FF6692', '#B6E880', '#FF97FF', '#FECB52']\n"
     ]
    },
    {
     "data": {
      "image/png": "[encoded data removed]",
      "text/plain": "<Figure size 432x288 with 1 Axes>"
     },
     "metadata": {
      "needs_background": "light"
     },
     "output_type": "display_data"
    }
   ],
   "source": [
    "import numpy as np\n",
    "import matplotlib.pyplot as plt\n",
    "import myokit\n",
    "from scipy.integrate import odeint\n",
    "import pints\n",
    "import pints.plot\n",
    "import pints.toy\n",
    "import math\n",
    "import pandas as pd\n",
    "from plotly.subplots import make_subplots\n",
    "import plotly.graph_objects as go\n",
    "import plotly.colors\n",
    "from plotly.validators.scatter.marker import SymbolValidator\n",
    "\n",
    "\n",
    "raw_symbols = SymbolValidator().values\n",
    "\n",
    "class Model(pints.ForwardModel):\n",
    "    \n",
    "    def __init__(self):\n",
    "        m = myokit.load_model('ThreeCompartment_IV_Model.mmt') #path for the model file \n",
    "        p = myokit.load_protocol('protocol_New.mmt')#path for the protocol file(e.g. dose regimen)\n",
    "      \n",
    "        self.simulation = myokit.Simulation(m, p) #define simulation (i.e. run the model via myokit)\n",
    "\n",
    "    def n_parameters(self):\n",
    "        return 6 # number of parameters to Fit\n",
    "    \n",
    "    def dimension(self):\n",
    "        # Return the dimension of the parameter vector\n",
    "        return 6\n",
    "\n",
    "    def simulate(self, parameters, times):\n",
    "        Drug_Central = []\n",
    "        \n",
    "       #setting up simulation parameters \n",
    "        self.simulation.set_state(save_state)\n",
    "        self.simulation.reset()     \n",
    "        self.simulation.set_time(0)\n",
    "        self.simulation.set_constant('AllCompartment.CL', parameters[0]) # define parameter \n",
    "        self.simulation.set_constant('AllCompartment.Vc', parameters[1]) # define parameter \n",
    "        self.simulation.set_constant('AllCompartment.Qp1', parameters[2]) # define parameter \n",
    "        self.simulation.set_constant('AllCompartment.Vp1', parameters[3]) # define parameter \n",
    "        self.simulation.set_constant('AllCompartment.Qp2', parameters[4]) # define parameter \n",
    "        self.simulation.set_constant('AllCompartment.Vp2', parameters[5]) # define parameter\n",
    "                                 \n",
    "        # simulating multiple dose levels\n",
    "        var_to_log = 'AllCompartment.Drug_Concentration_Central'\n",
    "        \n",
    "        DoseAmounts=drug_conc # Define dose level, can move this line to the initialization part \n",
    "        for i in range(len(DoseAmounts)):\n",
    "            self.simulation.reset()  \n",
    "            self.simulation.set_constant('dose.doseAmount', float(DoseAmounts[i]))\n",
    "            Output = self.simulation.run(times[-1]+1, log=[var_to_log], log_times = times)\n",
    "            Drug_Central.append(Output[var_to_log])\n",
    "        \n",
    "        return np.array(Drug_Central).T\n",
    "\n",
    "\n",
    "m = myokit.load_model('ThreeCompartment_IV_Model.mmt') #path for the model file \n",
    "p = myokit.load_protocol('protocol_New.mmt') #path for the protocol file(e.g. dose regimen)\n",
    "\n",
    "ref = myokit.Simulation(m, p) #set up myokit model: input model and protocol \n",
    "save_state = ref.state()  #save the original initial state \n",
    "\n",
    "# Then create an instance of our new model class\n",
    "model = Model()\n",
    "\n",
    "true_params  = [3,5,8,50,2,10] \n",
    "\n",
    "# Total  amount of drug dosed: 1mg/kg, 5mg/kg and 15mg/kg dose for mice (unit ng)\n",
    "TotalDoseLevel= np.array([25000, 125000, 375000])\n",
    "\n",
    "event_duration = p.events()[0].duration() # Extract duration of the dosing event from the protocol\n",
    "drug_conc = TotalDoseLevel / event_duration\n",
    "\n",
    "param_test=[3,5,8,50,2,10] \n",
    "\n",
    "times= [1,2,4,5,7,9,11,14,17,20,22,24]\n",
    "\n",
    "# run a test simulation\n",
    "values=np.array(model.simulate(param_test ,times))\n",
    "\n",
    "values = np.array([v + np.random.normal(0, 0.05, v.shape)*v for v in values])\n",
    "values = np.transpose(values)\n",
    "\n",
    "synthesized_data = {'time': times,\n",
    "                 'observation': values}\n",
    "\n",
    "print(times)                \n",
    "print(synthesized_data)          \n",
    "colorlist=plotly.colors.qualitative.Plotly\n",
    "print(colorlist)\n",
    "plt.figure()\n",
    "for i in range(len(drug_conc)):\n",
    "    drug_conc_i = drug_conc[i]\n",
    "    plt.semilogy(synthesized_data['time'],synthesized_data['observation'][i,:], color=colorlist[i])\n"
   ]
  },
  {
   "cell_type": "code",
   "execution_count": 2,
   "metadata": {},
   "outputs": [
    {
     "name": "stdout",
     "output_type": "stream",
     "text": [
      "Minimising error measure\n",
      "Using Covariance Matrix Adaptation Evolution Strategy (CMA-ES)\n",
      "Running in sequential mode.\n",
      "Population size: 9\n",
      "Iter. Eval. Best      Time m:s\n",
      "0     9      50.31423   0:00.2\n",
      "1     18     50.31423   0:00.3\n",
      "2     27     50.31423   0:00.5\n",
      "3     36     50.31423   0:00.6\n",
      "20    189    50.31014   0:03.1\n",
      "40    369    50.31001   0:05.8\n",
      "60    549    50.30992   0:08.4\n",
      "80    729    50.30988   0:11.2\n",
      "100   909    50.30988   0:14.7\n",
      "120   1089   50.30986   0:17.7\n",
      "140   1269   50.30986   0:20.6\n",
      "160   1449   50.30986   0:23.3\n",
      "180   1629   50.30986   0:26.0\n",
      "200   1809   50.30986   0:29.4\n",
      "220   1989   50.30986   0:32.3\n",
      "240   2169   50.30986   0:35.0\n",
      "260   2349   50.30986   0:38.1\n",
      "280   2529   50.30986   0:41.1\n",
      "300   2709   50.30986   0:44.1\n",
      "320   2889   50.30986   0:47.1\n",
      "340   3069   50.30986   0:50.1\n",
      "360   3249   50.30986   0:53.1\n",
      "380   3429   50.30986   0:56.0\n",
      "400   3609   50.30986   0:58.9\n",
      "420   3789   50.30986   1:01.9\n",
      "440   3969   50.30986   1:05.1\n",
      "456   4104   50.30986   1:07.3\n",
      "Halting: No significant change for 200 iterations.\n",
      "Found solution:          True parameters:\n",
      " 2.99638770106596164e+00     3.00000000000000000e+00\n",
      " 4.60435944585950008e+00     5.00000000000000000e+00\n",
      " 7.71413098883047521e+00     8.00000000000000000e+00\n",
      " 4.83200678001472284e+01     5.00000000000000000e+01\n",
      " 1.51608367981258318e+00     2.00000000000000000e+00\n",
      " 9.94287468071720859e+00     1.00000000000000000e+01\n"
     ]
    }
   ],
   "source": [
    "#%% Define error function for fitting \n",
    "class ScoreFunction(pints.ErrorMeasure):\n",
    "    \n",
    "    def __init__(self, model, times, values, simulate_param):\n",
    "        # Using sum of squares error for all values\n",
    "        #\n",
    "        # model: pints.ForwardModel\n",
    "        # times: time series to simulate\n",
    "        # values: multiple series that match model with simulate_param\n",
    "        # simulate_param: parameters that correspond to each series in values\n",
    "        super(ScoreFunction, self).__init__()\n",
    "        \n",
    "        self._model = model\n",
    "        self._dimension = self._model.dimension()\n",
    "        self._times = times\n",
    "        if len(values) == len(simulate_param):\n",
    "            self._values = np.asarray(values)\n",
    "            self._param = np.asarray(simulate_param)\n",
    "        else:\n",
    "            raise ValueError('Length of values must be the same as simulate_param')\n",
    "\n",
    "    def dimension(self):\n",
    "        \"\"\" See :meth:`ErrorMeasure.dimension`. \"\"\"\n",
    "        return self._dimension\n",
    "    \n",
    "    def n_parameters(self):\n",
    "        return self._dimension\n",
    "\n",
    "    def __call__(self, x):\n",
    "        total = 0\n",
    "        # go through all simulation parameter (drug concentration)\n",
    "        for i in range(len(self._param)):\n",
    "            drug_conc=self._param[i]\n",
    "            #self._model.simulation.set_constant('dose.doseAmount', self._param[i])\n",
    "            # simulate the model\n",
    "            values = self._model.simulate(x, self._times)\n",
    "            values = np.transpose(values)\n",
    "            # sum of square error for corresponding values\n",
    "            # total += np.sum(((values - self._values[i])/self._values[i])**2)\n",
    "\n",
    "            total += np.sum((np.log10(values) - np.log10(self._values[i]))**2)\n",
    "            # total += np.sum(((np.log10(values) - np.log10(self._values[i]))/np.log10(self._values[i]))**2)\n",
    "        return total\n",
    "# In[21]: Optimization \n",
    "\n",
    "InitialEstimate = [3,5,8,50,2,10] \n",
    "boundaries =  pints.RectangularBoundaries([2,3,5,20,1,5] , [4,8,20,100,5,20] )\n",
    "\n",
    "# Add some noise\n",
    "#values = [v + np.random.normal(0, 0.05*np.max(v), v.shape) for v in values]\n",
    "\n",
    "# Create self defined score function\n",
    "score = ScoreFunction(model, times, values, drug_conc)\n",
    "\n",
    "found_parameters, found_value = pints.optimise(score, InitialEstimate, boundaries=boundaries, method=pints.CMAES)\n",
    "\n",
    "print('Found solution:          True parameters:' )\n",
    "for k, x in enumerate(found_parameters):\n",
    "    print(pints.strfloat(x) + '    ' + pints.strfloat(true_params[k]))\n",
    "\n"
   ]
  },
  {
   "cell_type": "code",
   "execution_count": 3,
   "metadata": {},
   "outputs": [
    {
     "data": {
      "application/vnd.plotly.v1+json": {
       "config": {
        "plotlyServerURL": "https://plot.ly"
       },
       "data": [
        {
         "marker": {
          "color": "#636EFA",
          "size": 12
         },
         "mode": "markers",
         "name": "Obs. drug conc 25000000.0 mg/kg",
         "showlegend": true,
         "type": "scatter",
         "x": [
          1,
          2,
          4,
          5,
          7,
          9,
          11,
          14,
          17,
          20,
          22,
          24
         ],
         "y": [
          583.4613754702889,
          246.8243390316279,
          213.82515585388,
          214.80860026004308,
          183.27775435074636,
          710.0252152843807,
          376.01587759704637,
          336.30747539994485,
          895.329387584225,
          486.2277583838293,
          400.8155133232723,
          392.9421407200915
         ]
        },
        {
         "line": {
          "color": "#636EFA",
          "width": 1.5
         },
         "mode": "lines",
         "name": "Pred. drug conc 25000000.0 mg/kg",
         "showlegend": true,
         "type": "scatter",
         "x": [
          0,
          0.1,
          0.2,
          0.30000000000000004,
          0.4,
          0.5,
          0.6000000000000001,
          0.7000000000000001,
          0.8,
          0.9,
          1,
          1.1,
          1.2000000000000002,
          1.3,
          1.4000000000000001,
          1.5,
          1.6,
          1.7000000000000002,
          1.8,
          1.9000000000000001,
          2,
          2.1,
          2.2,
          2.3000000000000003,
          2.4000000000000004,
          2.5,
          2.6,
          2.7,
          2.8000000000000003,
          2.9000000000000004,
          3,
          3.1,
          3.2,
          3.3000000000000003,
          3.4000000000000004,
          3.5,
          3.6,
          3.7,
          3.8000000000000003,
          3.9000000000000004,
          4,
          4.1000000000000005,
          4.2,
          4.3,
          4.4,
          4.5,
          4.6000000000000005,
          4.7,
          4.800000000000001,
          4.9,
          5,
          5.1000000000000005,
          5.2,
          5.300000000000001,
          5.4,
          5.5,
          5.6000000000000005,
          5.7,
          5.800000000000001,
          5.9,
          6,
          6.1000000000000005,
          6.2,
          6.300000000000001,
          6.4,
          6.5,
          6.6000000000000005,
          6.7,
          6.800000000000001,
          6.9,
          7,
          7.1000000000000005,
          7.2,
          7.300000000000001,
          7.4,
          7.5,
          7.6000000000000005,
          7.7,
          7.800000000000001,
          7.9,
          8,
          8.1,
          8.200000000000001,
          8.3,
          8.4,
          8.5,
          8.6,
          8.700000000000001,
          8.8,
          8.9,
          9,
          9.1,
          9.200000000000001,
          9.3,
          9.4,
          9.5,
          9.600000000000001,
          9.700000000000001,
          9.8,
          9.9,
          10,
          10.100000000000001,
          10.200000000000001,
          10.3,
          10.4,
          10.5,
          10.600000000000001,
          10.700000000000001,
          10.8,
          10.9,
          11,
          11.100000000000001,
          11.200000000000001,
          11.3,
          11.4,
          11.5,
          11.600000000000001,
          11.700000000000001,
          11.8,
          11.9,
          12,
          12.100000000000001,
          12.200000000000001,
          12.3,
          12.4,
          12.5,
          12.600000000000001,
          12.700000000000001,
          12.8,
          12.9,
          13,
          13.100000000000001,
          13.200000000000001,
          13.3,
          13.4,
          13.5,
          13.600000000000001,
          13.700000000000001,
          13.8,
          13.9,
          14,
          14.100000000000001,
          14.200000000000001,
          14.3,
          14.4,
          14.5,
          14.600000000000001,
          14.700000000000001,
          14.8,
          14.9,
          15,
          15.100000000000001,
          15.200000000000001,
          15.3,
          15.4,
          15.5,
          15.600000000000001,
          15.700000000000001,
          15.8,
          15.9,
          16,
          16.1,
          16.2,
          16.3,
          16.400000000000002,
          16.5,
          16.6,
          16.7,
          16.8,
          16.900000000000002,
          17,
          17.1,
          17.2,
          17.3,
          17.400000000000002,
          17.5,
          17.6,
          17.7,
          17.8,
          17.900000000000002,
          18,
          18.1,
          18.2,
          18.3,
          18.400000000000002,
          18.5,
          18.6,
          18.7,
          18.8,
          18.900000000000002,
          19,
          19.1,
          19.200000000000003,
          19.3,
          19.400000000000002,
          19.5,
          19.6,
          19.700000000000003,
          19.8,
          19.900000000000002,
          20,
          20.1,
          20.200000000000003,
          20.3,
          20.400000000000002,
          20.5,
          20.6,
          20.700000000000003,
          20.8,
          20.900000000000002,
          21,
          21.1,
          21.200000000000003,
          21.3,
          21.400000000000002,
          21.5,
          21.6,
          21.700000000000003,
          21.8,
          21.900000000000002,
          22,
          22.1,
          22.200000000000003,
          22.3,
          22.400000000000002,
          22.5,
          22.6,
          22.700000000000003,
          22.8,
          22.900000000000002,
          23,
          23.1,
          23.200000000000003,
          23.3,
          23.400000000000002,
          23.5,
          23.6,
          23.700000000000003,
          23.8,
          23.900000000000002
         ],
         "y": [
          0,
          4176.066088052888,
          3220.9715619740127,
          2497.1770615202936,
          1948.6371157093668,
          1532.7223915817526,
          1217.4131780784503,
          978.366341361595,
          797.0431425914261,
          659.4003481350705,
          554.9841972630188,
          475.7759937708435,
          415.5621438115211,
          369.70694798903423,
          334.76596140093307,
          308.11044654506276,
          287.7130615720562,
          272.0509309205739,
          259.9803183868584,
          250.64110557053237,
          243.37302449020729,
          237.67242591081808,
          233.15785416253928,
          229.5366597019378,
          226.5934198566083,
          224.16703759739457,
          222.13434388107916,
          220.40168318170635,
          218.8952061762555,
          217.56041291010283,
          216.3565632544786,
          215.25298857996992,
          214.22748186867545,
          213.26209433247828,
          212.34318154784262,
          211.46272136044882,
          210.60560488305742,
          209.77389900880814,
          208.9543783684109,
          208.14668344353737,
          207.34853660508148,
          206.55673066687277,
          205.7722076277212,
          204.99453652163405,
          204.22279204574022,
          203.45705247387494,
          202.69693742047397,
          201.94147224518477,
          201.19062794806644,
          200.44666264217113,
          199.70724331127695,
          198.96964692077898,
          198.23124553954884,
          197.50499447107592,
          196.7817729337379,
          196.0580955808426,
          195.3285669640545,
          194.6073755390038,
          193.88997504507375,
          193.17222648695756,
          192.45175316032083,
          191.73176392322,
          191.01617610203408,
          190.30220288209404,
          189.59039919247584,
          188.88122114650366,
          188.17430953268826,
          187.47080093205483,
          186.77142750565355,
          186.07702959187952,
          185.38159445271145,
          184.68849368512988,
          183.99822486299524,
          183.3112329775044,
          182.6280760701812,
          181.94942523287668,
          181.27606460776866,
          180.60573590742604,
          179.93342927167637,
          179.2639996401916,
          178.59765384094814,
          4353.564469622634,
          3396.6542511067323,
          2672.496126339107,
          2123.72633382546,
          1707.6207721995243,
          1391.8208817407774,
          1151.9884812126368,
          969.8322770145729,
          831.543108098914,
          726.5382956216285,
          646.7044455947747,
          585.8891393874538,
          539.4676395939953,
          503.95636125914,
          476.71530209452857,
          455.73839264021865,
          439.5037849253226,
          426.8601087932408,
          416.9369291278692,
          409.0754755486578,
          402.7766228248372,
          397.66218278314767,
          393.4457705225734,
          389.9106037093874,
          386.89122158639174,
          384.26289850272093,
          381.92917923165396,
          379.82721657441385,
          377.9004352849291,
          376.11158257896557,
          374.425388385752,
          372.81825962831226,
          371.2683931123179,
          369.76359000273527,
          368.2918096290151,
          366.8482109412762,
          365.4249173689079,
          364.00691285906123,
          362.60283525053745,
          361.22062453290766,
          359.8644873594632,
          358.5129913171027,
          357.1781892692754,
          355.8570836945915,
          354.54302410724733,
          353.23422513213086,
          351.9307952038569,
          350.63161241735725,
          349.33375018858635,
          348.04584952433356,
          346.762731080408,
          345.4827159969594,
          344.20450421606705,
          342.9267956798102,
          341.6554365393346,
          340.39064768162484,
          339.1292565095461,
          337.87094034189766,
          336.6153764974787,
          335.3637023843533,
          334.11831884232123,
          332.8773444156625,
          331.6408508232481,
          330.4089097839494,
          329.1815937019519,
          327.9589874752639,
          326.741156343239,
          325.5281731861511,
          324.3201108842737,
          323.1170423178806,
          321.9167055528437,
          320.7198913681421,
          319.5272629035137,
          318.3388868687182,
          317.15482997351506,
          315.97515892766376,
          314.79994044092405,
          313.6292412230554,
          312.4631279838173,
          311.301667436759,
          4485.4315801226185,
          3527.1749031306504,
          2801.3395695420813,
          2251.239143782378,
          1834.3589420899368,
          1518.2857256994357,
          1278.5015244117094,
          1096.528903198297,
          958.424232618447,
          853.6232754332531,
          773.7978468027699,
          712.8139966116506,
          666.1003525974287,
          630.1998129862204,
          602.5313790690277,
          581.0911356414238,
          564.3717806338968,
          551.2427933478291,
          540.8298883210557,
          532.4791513800326,
          525.6978876359403,
          520.1068358484595,
          515.4147081025611,
          511.4018192261516,
          507.9070427713042,
          504.8124440732711,
          502.0250195059065,
          499.47166325254994,
          497.09577727631057,
          494.852930926819,
          492.71463308384267,
          490.65386421221194,
          488.65949702406,
          486.7136228295394,
          484.81078003849416,
          482.93941034517894,
          481.0950548559676,
          479.27122740434504,
          477.46450755530975,
          475.67183347031846,
          473.8900540497074,
          472.117809470046,
          470.3555556982242,
          468.60336545072414,
          466.85571175144094,
          465.11666024671365,
          463.3881837435991,
          461.667082574897,
          459.95172958282745,
          458.2449058725325,
          456.54741927831384,
          454.8552318086814,
          453.1700438108836,
          451.49165296542037,
          449.8199646968249,
          448.1548967432834,
          446.49616217954974,
          444.84356906333414,
          443.19692545234636,
          441.5560394042964,
          439.9207189768942,
          438.29077222784974,
          436.666007214873,
          435.0462319956738,
          433.4349110309812,
          431.8329850080625,
          430.23712139674177,
          428.64718515157296,
          427.06304122710975,
          425.48455457790595,
          423.9115901585153,
          422.3440129234917,
          420.7816878273889,
          419.2244798247607,
          417.6722538701609,
          416.1248749181433,
          414.5822079232616,
          413.04411784006976,
          411.5104696231215
         ]
        },
        {
         "marker": {
          "color": "#EF553B",
          "size": 12
         },
         "mode": "markers",
         "name": "Obs. drug conc 125000000.0 mg/kg",
         "showlegend": true,
         "type": "scatter",
         "x": [
          1,
          2,
          4,
          5,
          7,
          9,
          11,
          14,
          17,
          20,
          22,
          24
         ],
         "y": [
          2839.716755268013,
          1183.0532066126787,
          961.8504446453276,
          990.4126117719267,
          991.555212315283,
          3482.783724611601,
          1956.3879587067652,
          1632.0449481027701,
          3931.9204585429343,
          2459.9385257113972,
          2124.8994285064805,
          2187.914942149123
         ]
        },
        {
         "line": {
          "color": "#EF553B",
          "width": 1.5
         },
         "mode": "lines",
         "name": "Pred. drug conc 125000000.0 mg/kg",
         "showlegend": true,
         "type": "scatter",
         "x": [
          0,
          0.1,
          0.2,
          0.30000000000000004,
          0.4,
          0.5,
          0.6000000000000001,
          0.7000000000000001,
          0.8,
          0.9,
          1,
          1.1,
          1.2000000000000002,
          1.3,
          1.4000000000000001,
          1.5,
          1.6,
          1.7000000000000002,
          1.8,
          1.9000000000000001,
          2,
          2.1,
          2.2,
          2.3000000000000003,
          2.4000000000000004,
          2.5,
          2.6,
          2.7,
          2.8000000000000003,
          2.9000000000000004,
          3,
          3.1,
          3.2,
          3.3000000000000003,
          3.4000000000000004,
          3.5,
          3.6,
          3.7,
          3.8000000000000003,
          3.9000000000000004,
          4,
          4.1000000000000005,
          4.2,
          4.3,
          4.4,
          4.5,
          4.6000000000000005,
          4.7,
          4.800000000000001,
          4.9,
          5,
          5.1000000000000005,
          5.2,
          5.300000000000001,
          5.4,
          5.5,
          5.6000000000000005,
          5.7,
          5.800000000000001,
          5.9,
          6,
          6.1000000000000005,
          6.2,
          6.300000000000001,
          6.4,
          6.5,
          6.6000000000000005,
          6.7,
          6.800000000000001,
          6.9,
          7,
          7.1000000000000005,
          7.2,
          7.300000000000001,
          7.4,
          7.5,
          7.6000000000000005,
          7.7,
          7.800000000000001,
          7.9,
          8,
          8.1,
          8.200000000000001,
          8.3,
          8.4,
          8.5,
          8.6,
          8.700000000000001,
          8.8,
          8.9,
          9,
          9.1,
          9.200000000000001,
          9.3,
          9.4,
          9.5,
          9.600000000000001,
          9.700000000000001,
          9.8,
          9.9,
          10,
          10.100000000000001,
          10.200000000000001,
          10.3,
          10.4,
          10.5,
          10.600000000000001,
          10.700000000000001,
          10.8,
          10.9,
          11,
          11.100000000000001,
          11.200000000000001,
          11.3,
          11.4,
          11.5,
          11.600000000000001,
          11.700000000000001,
          11.8,
          11.9,
          12,
          12.100000000000001,
          12.200000000000001,
          12.3,
          12.4,
          12.5,
          12.600000000000001,
          12.700000000000001,
          12.8,
          12.9,
          13,
          13.100000000000001,
          13.200000000000001,
          13.3,
          13.4,
          13.5,
          13.600000000000001,
          13.700000000000001,
          13.8,
          13.9,
          14,
          14.100000000000001,
          14.200000000000001,
          14.3,
          14.4,
          14.5,
          14.600000000000001,
          14.700000000000001,
          14.8,
          14.9,
          15,
          15.100000000000001,
          15.200000000000001,
          15.3,
          15.4,
          15.5,
          15.600000000000001,
          15.700000000000001,
          15.8,
          15.9,
          16,
          16.1,
          16.2,
          16.3,
          16.400000000000002,
          16.5,
          16.6,
          16.7,
          16.8,
          16.900000000000002,
          17,
          17.1,
          17.2,
          17.3,
          17.400000000000002,
          17.5,
          17.6,
          17.7,
          17.8,
          17.900000000000002,
          18,
          18.1,
          18.2,
          18.3,
          18.400000000000002,
          18.5,
          18.6,
          18.7,
          18.8,
          18.900000000000002,
          19,
          19.1,
          19.200000000000003,
          19.3,
          19.400000000000002,
          19.5,
          19.6,
          19.700000000000003,
          19.8,
          19.900000000000002,
          20,
          20.1,
          20.200000000000003,
          20.3,
          20.400000000000002,
          20.5,
          20.6,
          20.700000000000003,
          20.8,
          20.900000000000002,
          21,
          21.1,
          21.200000000000003,
          21.3,
          21.400000000000002,
          21.5,
          21.6,
          21.700000000000003,
          21.8,
          21.900000000000002,
          22,
          22.1,
          22.200000000000003,
          22.3,
          22.400000000000002,
          22.5,
          22.6,
          22.700000000000003,
          22.8,
          22.900000000000002,
          23,
          23.1,
          23.200000000000003,
          23.3,
          23.400000000000002,
          23.5,
          23.6,
          23.700000000000003,
          23.8,
          23.900000000000002
         ],
         "y": [
          0,
          20880.33004074409,
          16104.855800508825,
          12485.88314135265,
          9743.183621339695,
          7663.588532773189,
          6086.348813811586,
          4890.367865243366,
          3983.7523924020607,
          3296.1749852541034,
          2774.3176778951065,
          2378.00292043419,
          2076.8260440891336,
          1847.687012124318,
          1673.1153110960176,
          1539.8816348772502,
          1437.9646254618447,
          1359.7567563975297,
          1299.5189304126707,
          1252.8961868564463,
          1216.587934667535,
          1188.0739289560956,
          1165.4717905951334,
          1147.3792625029005,
          1132.716313330546,
          1120.649867511328,
          1110.5415865679406,
          1101.9067030647948,
          1094.3881611155236,
          1087.7268455749372,
          1081.7224041423294,
          1076.2253427790502,
          1071.1231244954743,
          1066.3082167830291,
          1061.732129499584,
          1057.3088191456816,
          1053.0247997761041,
          1048.8290867251044,
          1044.7145609678826,
          1040.663495142405,
          1036.6670378977337,
          1032.7187383179964,
          1028.8216789375344,
          1024.971464884734,
          1021.158604695679,
          1017.365433027696,
          1013.5687881922349,
          1009.8249376894169,
          1006.0895767971583,
          1002.3467179276564,
          998.6056332680662,
          994.8820803234227,
          991.1661792849031,
          987.4621681450823,
          983.7661176201653,
          980.0870454556627,
          976.4324306535812,
          972.799837040264,
          969.1829869488997,
          965.5863174692463,
          962.0077779652527,
          958.4492328910322,
          954.9051744793121,
          951.3701646738502,
          947.8453586733376,
          944.3348130716137,
          940.833587540022,
          937.341094145234,
          933.8591535357449,
          930.3888869237389,
          926.9331622703994,
          923.4875134765729,
          920.0464639937899,
          916.6162335388185,
          913.2000088116445,
          909.802750695058,
          906.4314969916866,
          903.0586725669799,
          899.6906914054109,
          896.337266670585,
          893.0021958235945,
          21767.832901066868,
          16983.27926309369,
          13362.486705379737,
          10618.636274105993,
          8538.107356527518,
          6959.107058338836,
          5759.944396446972,
          4849.162857893864,
          4157.7166210391215,
          3632.6922744614867,
          3233.522820029843,
          2929.4461495407795,
          2697.338537190621,
          2519.7820586022,
          2383.576697467055,
          2278.692102209774,
          2197.519028469167,
          2134.3006216616195,
          2084.684703663573,
          2045.3774209995383,
          2013.8831463986535,
          1988.3109380681335,
          1967.2288707442,
          1949.5530321932497,
          1934.4561198402737,
          1921.3144997823536,
          1909.6459055714759,
          1899.136090363703,
          1889.5021803169539,
          1880.557914726924,
          1872.1269421987367,
          1864.0912988222883,
          1856.3419664125277,
          1848.8179522275855,
          1841.459051545941,
          1834.241057277032,
          1827.124597892155,
          1820.034580030417,
          1813.0141926775543,
          1806.1031321215705,
          1799.3224473188961,
          1792.5649630849748,
          1785.8909468663371,
          1779.2854172574318,
          1772.7151176177058,
          1766.1711235366736,
          1759.6539721059687,
          1753.158059430672,
          1746.668751197162,
          1740.2292410929608,
          1733.8136477530486,
          1727.4135720303361,
          1721.0225138920812,
          1714.6339733055406,
          1708.2771756352768,
          1701.953230751645,
          1695.646274634941,
          1689.354693977027,
          1683.076875469764,
          1676.818506227942,
          1670.591588855202,
          1664.3867171527286,
          1658.204249718675,
          1652.0445451511941,
          1645.9079654713166,
          1639.7949349832452,
          1633.7057799801917,
          1627.6408648514653,
          1621.6005539863754,
          1615.5852117742322,
          1609.5835238916259,
          1603.5994500245224,
          1597.6363040739661,
          1591.6944196071681,
          1585.774130191339,
          1579.87576939369,
          1573.999670781432,
          1568.146167921776,
          1562.315594381933,
          1556.5082837112782,
          22427.157863953027,
          17635.874508016772,
          14006.697871518965,
          11256.195730155805,
          9171.79473824629,
          7591.428642952768,
          6392.5076436120835,
          5482.644529444152,
          4792.121193313873,
          4268.1164050696325,
          3868.9892407361876,
          3564.0699893642877,
          3330.5017596891835,
          3150.999052485236,
          3012.656890862071,
          2905.4556709553244,
          2821.858898826135,
          2756.2139623635703,
          2704.149435936443,
          2662.395754100938,
          2628.48943715282,
          2600.5341785982946,
          2577.0735384147756,
          2557.009093938993,
          2539.535211910763,
          2524.0622190064732,
          2510.1250971643303,
          2497.3583166614076,
          2485.4788864315983,
          2474.2646547262616,
          2463.5731641579864,
          2453.2693211360192,
          2443.297484394737,
          2433.5681155594953,
          2424.0539013466605,
          2414.697054278845,
          2405.475276605657,
          2396.3561396501464,
          2387.322540036736,
          2378.3591695265354,
          2369.450271110865,
          2360.5890477759517,
          2351.7777795416937,
          2343.016826207151,
          2334.278557579881,
          2325.5833012173357,
          2316.9409218228166,
          2308.335412882079,
          2299.7586488199613,
          2291.2245320128172,
          2282.737098824772,
          2274.276161912239,
          2265.8502222839716,
          2257.4582683299623,
          2249.099827511901,
          2240.7744881750336,
          2232.480815766724,
          2224.2178505670386,
          2215.984632856043,
          2207.7802029138056,
          2199.603601020392,
          2191.4538674558694,
          2183.3300425003035,
          2175.231166433762,
          2167.1745564314947,
          2159.164926084093,
          2151.1856077471443,
          2143.2359262046753,
          2135.3152062407125,
          2127.4227726392846,
          2119.5579501844177,
          2111.7200636601383,
          2103.9084378504754,
          2096.122397539454,
          2088.361267511103,
          2080.6243725494483,
          2072.9110374385177,
          2065.220586962338,
          2057.5523459049364
         ]
        },
        {
         "marker": {
          "color": "#00CC96",
          "size": 12
         },
         "mode": "markers",
         "name": "Obs. drug conc 375000000.0 mg/kg",
         "showlegend": true,
         "type": "scatter",
         "x": [
          1,
          2,
          4,
          5,
          7,
          9,
          11,
          14,
          17,
          20,
          22,
          24
         ],
         "y": [
          8107.183187827939,
          3706.783436253495,
          3003.575208591891,
          2942.039881299428,
          2659.53032645469,
          11023.73218378185,
          5390.42259347512,
          5219.997036649149,
          13130.620429133452,
          7725.098127935433,
          6880.889722432293,
          5956.509774404075
         ]
        },
        {
         "line": {
          "color": "#00CC96",
          "width": 1.5
         },
         "mode": "lines",
         "name": "Pred. drug conc 375000000.0 mg/kg",
         "showlegend": true,
         "type": "scatter",
         "x": [
          0,
          0.1,
          0.2,
          0.30000000000000004,
          0.4,
          0.5,
          0.6000000000000001,
          0.7000000000000001,
          0.8,
          0.9,
          1,
          1.1,
          1.2000000000000002,
          1.3,
          1.4000000000000001,
          1.5,
          1.6,
          1.7000000000000002,
          1.8,
          1.9000000000000001,
          2,
          2.1,
          2.2,
          2.3000000000000003,
          2.4000000000000004,
          2.5,
          2.6,
          2.7,
          2.8000000000000003,
          2.9000000000000004,
          3,
          3.1,
          3.2,
          3.3000000000000003,
          3.4000000000000004,
          3.5,
          3.6,
          3.7,
          3.8000000000000003,
          3.9000000000000004,
          4,
          4.1000000000000005,
          4.2,
          4.3,
          4.4,
          4.5,
          4.6000000000000005,
          4.7,
          4.800000000000001,
          4.9,
          5,
          5.1000000000000005,
          5.2,
          5.300000000000001,
          5.4,
          5.5,
          5.6000000000000005,
          5.7,
          5.800000000000001,
          5.9,
          6,
          6.1000000000000005,
          6.2,
          6.300000000000001,
          6.4,
          6.5,
          6.6000000000000005,
          6.7,
          6.800000000000001,
          6.9,
          7,
          7.1000000000000005,
          7.2,
          7.300000000000001,
          7.4,
          7.5,
          7.6000000000000005,
          7.7,
          7.800000000000001,
          7.9,
          8,
          8.1,
          8.200000000000001,
          8.3,
          8.4,
          8.5,
          8.6,
          8.700000000000001,
          8.8,
          8.9,
          9,
          9.1,
          9.200000000000001,
          9.3,
          9.4,
          9.5,
          9.600000000000001,
          9.700000000000001,
          9.8,
          9.9,
          10,
          10.100000000000001,
          10.200000000000001,
          10.3,
          10.4,
          10.5,
          10.600000000000001,
          10.700000000000001,
          10.8,
          10.9,
          11,
          11.100000000000001,
          11.200000000000001,
          11.3,
          11.4,
          11.5,
          11.600000000000001,
          11.700000000000001,
          11.8,
          11.9,
          12,
          12.100000000000001,
          12.200000000000001,
          12.3,
          12.4,
          12.5,
          12.600000000000001,
          12.700000000000001,
          12.8,
          12.9,
          13,
          13.100000000000001,
          13.200000000000001,
          13.3,
          13.4,
          13.5,
          13.600000000000001,
          13.700000000000001,
          13.8,
          13.9,
          14,
          14.100000000000001,
          14.200000000000001,
          14.3,
          14.4,
          14.5,
          14.600000000000001,
          14.700000000000001,
          14.8,
          14.9,
          15,
          15.100000000000001,
          15.200000000000001,
          15.3,
          15.4,
          15.5,
          15.600000000000001,
          15.700000000000001,
          15.8,
          15.9,
          16,
          16.1,
          16.2,
          16.3,
          16.400000000000002,
          16.5,
          16.6,
          16.7,
          16.8,
          16.900000000000002,
          17,
          17.1,
          17.2,
          17.3,
          17.400000000000002,
          17.5,
          17.6,
          17.7,
          17.8,
          17.900000000000002,
          18,
          18.1,
          18.2,
          18.3,
          18.400000000000002,
          18.5,
          18.6,
          18.7,
          18.8,
          18.900000000000002,
          19,
          19.1,
          19.200000000000003,
          19.3,
          19.400000000000002,
          19.5,
          19.6,
          19.700000000000003,
          19.8,
          19.900000000000002,
          20,
          20.1,
          20.200000000000003,
          20.3,
          20.400000000000002,
          20.5,
          20.6,
          20.700000000000003,
          20.8,
          20.900000000000002,
          21,
          21.1,
          21.200000000000003,
          21.3,
          21.400000000000002,
          21.5,
          21.6,
          21.700000000000003,
          21.8,
          21.900000000000002,
          22,
          22.1,
          22.200000000000003,
          22.3,
          22.400000000000002,
          22.5,
          22.6,
          22.700000000000003,
          22.8,
          22.900000000000002,
          23,
          23.1,
          23.200000000000003,
          23.3,
          23.400000000000002,
          23.5,
          23.6,
          23.700000000000003,
          23.8,
          23.900000000000002
         ],
         "y": [
          0,
          62640.98972758387,
          48314.566248504016,
          37457.648224946315,
          29229.549793488542,
          22990.764367295516,
          18259.043970642,
          14671.099683480645,
          11951.252717037614,
          9888.521232481973,
          8322.949854231583,
          7134.005859816497,
          6230.475312267139,
          5543.05898773471,
          5019.344200688304,
          4619.643376417236,
          4313.892714067456,
          4079.2693217898172,
          3898.5559982867353,
          3758.6878594065965,
          3649.7633517075014,
          3564.2213936122484,
          3496.4152382415673,
          3442.137657354478,
          3398.1486661532354,
          3361.9492895568596,
          3331.6246521682665,
          3305.720009559343,
          3283.164446567926,
          3263.180524033664,
          3245.1671972280737,
          3228.6759040679067,
          3213.369290802518,
          3198.924457042814,
          3185.196320917616,
          3171.926424738577,
          3159.074498110636,
          3146.487452063885,
          3134.1439197257196,
          3121.9907228535276,
          3110.0013036125574,
          3098.156335343261,
          3086.464770857091,
          3074.913673631082,
          3063.4745717699066,
          3052.09460957001,
          3040.7048790588065,
          3029.4731178240036,
          3018.2669338440764,
          3007.038338766278,
          2995.815577516033,
          2984.6453438952085,
          2973.498052962295,
          2962.3861931721085,
          2951.298410846167,
          2940.2615051371413,
          2929.2978728421954,
          2918.399981213254,
          2907.549359010148,
          2896.759231490542,
          2886.0235665882597,
          2875.347744992354,
          2864.7153740632625,
          2854.1101726603456,
          2843.5358257869484,
          2833.0041813306766,
          2822.5005222698555,
          2812.0230654053853,
          2801.577346108383,
          2791.1666704070753,
          2780.7996174821524,
          2770.4626731824515,
          2760.1399975938057,
          2749.8500321360743,
          2739.602342258658,
          2729.4117768252704,
          2719.299366532019,
          2709.1788505914474,
          2699.0765497774914,
          2689.0182951852557,
          2679.0153884626334,
          65303.50537193144,
          50949.84284853524,
          40087.46395335922,
          31855.911731843808,
          25614.32427808474,
          20877.322849440825,
          17279.834448951264,
          14547.4895090119,
          12473.15055265752,
          10898.077333873613,
          9700.568841020247,
          8788.33873987451,
          8092.015830625443,
          7559.346339604266,
          7150.7302146322445,
          6836.076398196463,
          6592.557154401734,
          6402.901917152495,
          6254.054150487101,
          6136.132292969605,
          6041.649462064185,
          5964.932831800363,
          5901.686625906793,
          5848.659107324412,
          5803.368368958992,
          5763.94350595921,
          5728.937724299538,
          5697.408277456487,
          5668.506545205674,
          5641.673747210007,
          5616.380828699677,
          5592.2738987551575,
          5569.025901586905,
          5546.453859759834,
          5524.377158348799,
          5502.723175059731,
          5481.3738015840045,
          5460.103750545278,
          5439.0425887969495,
          5418.3094031762275,
          5397.967349377522,
          5377.694894416265,
          5357.67284242121,
          5337.8562526571695,
          5318.145352819839,
          5298.513371054168,
          5278.961915778599,
          5259.474178481836,
          5240.0062554296355,
          5220.687721332366,
          5201.44094073224,
          5182.2407134453915,
          5163.067539513569,
          5143.901918978517,
          5124.831524756091,
          5105.859689805611,
          5086.938821345839,
          5068.06407950574,
          5049.230624414281,
          5030.455517337343,
          5011.774765400898,
          4993.160150523927,
          4974.612748503041,
          4956.13363513485,
          4937.723896482075,
          4919.3848053545535,
          4901.117340685401,
          4882.922595635866,
          4864.801663367198,
          4846.755637040644,
          4828.750571269659,
          4810.798348031168,
          4792.908908157486,
          4775.083252360484,
          4757.322381352035,
          4739.627295844008,
          4721.998996548274,
          4704.438484176704,
          4686.94675944117,
          4669.524822980803,
          67281.4735724653,
          52907.62351972494,
          42020.09362634568,
          33768.58719639268,
          27515.384229176085,
          22774.28593688872,
          19177.52294256527,
          16447.933596164457,
          14376.36359619768,
          12804.34923038735,
          11606.96772693366,
          10692.209972662797,
          9991.50527890824,
          9452.997152781045,
          9037.970671875235,
          8716.367010789769,
          8465.576695848402,
          8268.641886445934,
          8112.4483065226,
          7987.187262436739,
          7885.468312467729,
          7801.602536989461,
          7731.2206157155115,
          7671.027282239333,
          7618.605636272492,
          7572.186657843393,
          7530.375292802718,
          7492.074951666162,
          7456.436660798374,
          7422.793965699013,
          7390.719493317566,
          7359.807964911081,
          7329.892454282987,
          7300.704348833052,
          7272.161706058801,
          7244.09116554404,
          7216.425832405423,
          7189.068421684541,
          7161.967622657297,
          7135.077511080997,
          7108.350815178513,
          7081.767144954876,
          7055.333340560903,
          7029.050479508104,
          7002.83567355968,
          6976.749905048701,
          6950.822768417134,
          6925.006240045486,
          6899.2759483019,
          6873.673598743418,
          6848.211299061149,
          6822.82848853263,
          6797.550669819848,
          6772.374808087239,
          6747.299485888939,
          6722.323468087696,
          6697.4424510636645,
          6672.653555653353,
          6647.953902693263,
          6623.340613019906,
          6598.810807469781,
          6574.361606879399,
          6549.990132085263,
          6525.693503923879,
          6501.52367112258,
          6477.494779973142,
          6453.55682483661,
          6429.707780070958,
          6405.945620034154,
          6382.2683190841735,
          6358.673851578986,
          6335.160191876564,
          6311.725314334881,
          6288.367193311905,
          6265.083803165611,
          6241.8731182539705,
          6218.733112934953,
          6195.661761566535,
          6172.657038506683
         ]
        }
       ],
       "layout": {
        "font": {
         "family": "Times New Roman",
         "size": 25
        },
        "height": 800,
        "template": {
         "data": {
          "bar": [
           {
            "error_x": {
             "color": "#2a3f5f"
            },
            "error_y": {
             "color": "#2a3f5f"
            },
            "marker": {
             "line": {
              "color": "white",
              "width": 0.5
             },
             "pattern": {
              "fillmode": "overlay",
              "size": 10,
              "solidity": 0.2
             }
            },
            "type": "bar"
           }
          ],
          "barpolar": [
           {
            "marker": {
             "line": {
              "color": "white",
              "width": 0.5
             },
             "pattern": {
              "fillmode": "overlay",
              "size": 10,
              "solidity": 0.2
             }
            },
            "type": "barpolar"
           }
          ],
          "carpet": [
           {
            "aaxis": {
             "endlinecolor": "#2a3f5f",
             "gridcolor": "#C8D4E3",
             "linecolor": "#C8D4E3",
             "minorgridcolor": "#C8D4E3",
             "startlinecolor": "#2a3f5f"
            },
            "baxis": {
             "endlinecolor": "#2a3f5f",
             "gridcolor": "#C8D4E3",
             "linecolor": "#C8D4E3",
             "minorgridcolor": "#C8D4E3",
             "startlinecolor": "#2a3f5f"
            },
            "type": "carpet"
           }
          ],
          "choropleth": [
           {
            "colorbar": {
             "outlinewidth": 0,
             "ticks": ""
            },
            "type": "choropleth"
           }
          ],
          "contour": [
           {
            "colorbar": {
             "outlinewidth": 0,
             "ticks": ""
            },
            "colorscale": [
             [
              0,
              "#0d0887"
             ],
             [
              0.1111111111111111,
              "#46039f"
             ],
             [
              0.2222222222222222,
              "#7201a8"
             ],
             [
              0.3333333333333333,
              "#9c179e"
             ],
             [
              0.4444444444444444,
              "#bd3786"
             ],
             [
              0.5555555555555556,
              "#d8576b"
             ],
             [
              0.6666666666666666,
              "#ed7953"
             ],
             [
              0.7777777777777778,
              "#fb9f3a"
             ],
             [
              0.8888888888888888,
              "#fdca26"
             ],
             [
              1,
              "#f0f921"
             ]
            ],
            "type": "contour"
           }
          ],
          "contourcarpet": [
           {
            "colorbar": {
             "outlinewidth": 0,
             "ticks": ""
            },
            "type": "contourcarpet"
           }
          ],
          "heatmap": [
           {
            "colorbar": {
             "outlinewidth": 0,
             "ticks": ""
            },
            "colorscale": [
             [
              0,
              "#0d0887"
             ],
             [
              0.1111111111111111,
              "#46039f"
             ],
             [
              0.2222222222222222,
              "#7201a8"
             ],
             [
              0.3333333333333333,
              "#9c179e"
             ],
             [
              0.4444444444444444,
              "#bd3786"
             ],
             [
              0.5555555555555556,
              "#d8576b"
             ],
             [
              0.6666666666666666,
              "#ed7953"
             ],
             [
              0.7777777777777778,
              "#fb9f3a"
             ],
             [
              0.8888888888888888,
              "#fdca26"
             ],
             [
              1,
              "#f0f921"
             ]
            ],
            "type": "heatmap"
           }
          ],
          "heatmapgl": [
           {
            "colorbar": {
             "outlinewidth": 0,
             "ticks": ""
            },
            "colorscale": [
             [
              0,
              "#0d0887"
             ],
             [
              0.1111111111111111,
              "#46039f"
             ],
             [
              0.2222222222222222,
              "#7201a8"
             ],
             [
              0.3333333333333333,
              "#9c179e"
             ],
             [
              0.4444444444444444,
              "#bd3786"
             ],
             [
              0.5555555555555556,
              "#d8576b"
             ],
             [
              0.6666666666666666,
              "#ed7953"
             ],
             [
              0.7777777777777778,
              "#fb9f3a"
             ],
             [
              0.8888888888888888,
              "#fdca26"
             ],
             [
              1,
              "#f0f921"
             ]
            ],
            "type": "heatmapgl"
           }
          ],
          "histogram": [
           {
            "marker": {
             "pattern": {
              "fillmode": "overlay",
              "size": 10,
              "solidity": 0.2
             }
            },
            "type": "histogram"
           }
          ],
          "histogram2d": [
           {
            "colorbar": {
             "outlinewidth": 0,
             "ticks": ""
            },
            "colorscale": [
             [
              0,
              "#0d0887"
             ],
             [
              0.1111111111111111,
              "#46039f"
             ],
             [
              0.2222222222222222,
              "#7201a8"
             ],
             [
              0.3333333333333333,
              "#9c179e"
             ],
             [
              0.4444444444444444,
              "#bd3786"
             ],
             [
              0.5555555555555556,
              "#d8576b"
             ],
             [
              0.6666666666666666,
              "#ed7953"
             ],
             [
              0.7777777777777778,
              "#fb9f3a"
             ],
             [
              0.8888888888888888,
              "#fdca26"
             ],
             [
              1,
              "#f0f921"
             ]
            ],
            "type": "histogram2d"
           }
          ],
          "histogram2dcontour": [
           {
            "colorbar": {
             "outlinewidth": 0,
             "ticks": ""
            },
            "colorscale": [
             [
              0,
              "#0d0887"
             ],
             [
              0.1111111111111111,
              "#46039f"
             ],
             [
              0.2222222222222222,
              "#7201a8"
             ],
             [
              0.3333333333333333,
              "#9c179e"
             ],
             [
              0.4444444444444444,
              "#bd3786"
             ],
             [
              0.5555555555555556,
              "#d8576b"
             ],
             [
              0.6666666666666666,
              "#ed7953"
             ],
             [
              0.7777777777777778,
              "#fb9f3a"
             ],
             [
              0.8888888888888888,
              "#fdca26"
             ],
             [
              1,
              "#f0f921"
             ]
            ],
            "type": "histogram2dcontour"
           }
          ],
          "mesh3d": [
           {
            "colorbar": {
             "outlinewidth": 0,
             "ticks": ""
            },
            "type": "mesh3d"
           }
          ],
          "parcoords": [
           {
            "line": {
             "colorbar": {
              "outlinewidth": 0,
              "ticks": ""
             }
            },
            "type": "parcoords"
           }
          ],
          "pie": [
           {
            "automargin": true,
            "type": "pie"
           }
          ],
          "scatter": [
           {
            "marker": {
             "colorbar": {
              "outlinewidth": 0,
              "ticks": ""
             }
            },
            "type": "scatter"
           }
          ],
          "scatter3d": [
           {
            "line": {
             "colorbar": {
              "outlinewidth": 0,
              "ticks": ""
             }
            },
            "marker": {
             "colorbar": {
              "outlinewidth": 0,
              "ticks": ""
             }
            },
            "type": "scatter3d"
           }
          ],
          "scattercarpet": [
           {
            "marker": {
             "colorbar": {
              "outlinewidth": 0,
              "ticks": ""
             }
            },
            "type": "scattercarpet"
           }
          ],
          "scattergeo": [
           {
            "marker": {
             "colorbar": {
              "outlinewidth": 0,
              "ticks": ""
             }
            },
            "type": "scattergeo"
           }
          ],
          "scattergl": [
           {
            "marker": {
             "colorbar": {
              "outlinewidth": 0,
              "ticks": ""
             }
            },
            "type": "scattergl"
           }
          ],
          "scattermapbox": [
           {
            "marker": {
             "colorbar": {
              "outlinewidth": 0,
              "ticks": ""
             }
            },
            "type": "scattermapbox"
           }
          ],
          "scatterpolar": [
           {
            "marker": {
             "colorbar": {
              "outlinewidth": 0,
              "ticks": ""
             }
            },
            "type": "scatterpolar"
           }
          ],
          "scatterpolargl": [
           {
            "marker": {
             "colorbar": {
              "outlinewidth": 0,
              "ticks": ""
             }
            },
            "type": "scatterpolargl"
           }
          ],
          "scatterternary": [
           {
            "marker": {
             "colorbar": {
              "outlinewidth": 0,
              "ticks": ""
             }
            },
            "type": "scatterternary"
           }
          ],
          "surface": [
           {
            "colorbar": {
             "outlinewidth": 0,
             "ticks": ""
            },
            "colorscale": [
             [
              0,
              "#0d0887"
             ],
             [
              0.1111111111111111,
              "#46039f"
             ],
             [
              0.2222222222222222,
              "#7201a8"
             ],
             [
              0.3333333333333333,
              "#9c179e"
             ],
             [
              0.4444444444444444,
              "#bd3786"
             ],
             [
              0.5555555555555556,
              "#d8576b"
             ],
             [
              0.6666666666666666,
              "#ed7953"
             ],
             [
              0.7777777777777778,
              "#fb9f3a"
             ],
             [
              0.8888888888888888,
              "#fdca26"
             ],
             [
              1,
              "#f0f921"
             ]
            ],
            "type": "surface"
           }
          ],
          "table": [
           {
            "cells": {
             "fill": {
              "color": "#EBF0F8"
             },
             "line": {
              "color": "white"
             }
            },
            "header": {
             "fill": {
              "color": "#C8D4E3"
             },
             "line": {
              "color": "white"
             }
            },
            "type": "table"
           }
          ]
         },
         "layout": {
          "annotationdefaults": {
           "arrowcolor": "#2a3f5f",
           "arrowhead": 0,
           "arrowwidth": 1
          },
          "autotypenumbers": "strict",
          "coloraxis": {
           "colorbar": {
            "outlinewidth": 0,
            "ticks": ""
           }
          },
          "colorscale": {
           "diverging": [
            [
             0,
             "#8e0152"
            ],
            [
             0.1,
             "#c51b7d"
            ],
            [
             0.2,
             "#de77ae"
            ],
            [
             0.3,
             "#f1b6da"
            ],
            [
             0.4,
             "#fde0ef"
            ],
            [
             0.5,
             "#f7f7f7"
            ],
            [
             0.6,
             "#e6f5d0"
            ],
            [
             0.7,
             "#b8e186"
            ],
            [
             0.8,
             "#7fbc41"
            ],
            [
             0.9,
             "#4d9221"
            ],
            [
             1,
             "#276419"
            ]
           ],
           "sequential": [
            [
             0,
             "#0d0887"
            ],
            [
             0.1111111111111111,
             "#46039f"
            ],
            [
             0.2222222222222222,
             "#7201a8"
            ],
            [
             0.3333333333333333,
             "#9c179e"
            ],
            [
             0.4444444444444444,
             "#bd3786"
            ],
            [
             0.5555555555555556,
             "#d8576b"
            ],
            [
             0.6666666666666666,
             "#ed7953"
            ],
            [
             0.7777777777777778,
             "#fb9f3a"
            ],
            [
             0.8888888888888888,
             "#fdca26"
            ],
            [
             1,
             "#f0f921"
            ]
           ],
           "sequentialminus": [
            [
             0,
             "#0d0887"
            ],
            [
             0.1111111111111111,
             "#46039f"
            ],
            [
             0.2222222222222222,
             "#7201a8"
            ],
            [
             0.3333333333333333,
             "#9c179e"
            ],
            [
             0.4444444444444444,
             "#bd3786"
            ],
            [
             0.5555555555555556,
             "#d8576b"
            ],
            [
             0.6666666666666666,
             "#ed7953"
            ],
            [
             0.7777777777777778,
             "#fb9f3a"
            ],
            [
             0.8888888888888888,
             "#fdca26"
            ],
            [
             1,
             "#f0f921"
            ]
           ]
          },
          "colorway": [
           "#636efa",
           "#EF553B",
           "#00cc96",
           "#ab63fa",
           "#FFA15A",
           "#19d3f3",
           "#FF6692",
           "#B6E880",
           "#FF97FF",
           "#FECB52"
          ],
          "font": {
           "color": "#2a3f5f"
          },
          "geo": {
           "bgcolor": "white",
           "lakecolor": "white",
           "landcolor": "white",
           "showlakes": true,
           "showland": true,
           "subunitcolor": "#C8D4E3"
          },
          "hoverlabel": {
           "align": "left"
          },
          "hovermode": "closest",
          "mapbox": {
           "style": "light"
          },
          "paper_bgcolor": "white",
          "plot_bgcolor": "white",
          "polar": {
           "angularaxis": {
            "gridcolor": "#EBF0F8",
            "linecolor": "#EBF0F8",
            "ticks": ""
           },
           "bgcolor": "white",
           "radialaxis": {
            "gridcolor": "#EBF0F8",
            "linecolor": "#EBF0F8",
            "ticks": ""
           }
          },
          "scene": {
           "xaxis": {
            "backgroundcolor": "white",
            "gridcolor": "#DFE8F3",
            "gridwidth": 2,
            "linecolor": "#EBF0F8",
            "showbackground": true,
            "ticks": "",
            "zerolinecolor": "#EBF0F8"
           },
           "yaxis": {
            "backgroundcolor": "white",
            "gridcolor": "#DFE8F3",
            "gridwidth": 2,
            "linecolor": "#EBF0F8",
            "showbackground": true,
            "ticks": "",
            "zerolinecolor": "#EBF0F8"
           },
           "zaxis": {
            "backgroundcolor": "white",
            "gridcolor": "#DFE8F3",
            "gridwidth": 2,
            "linecolor": "#EBF0F8",
            "showbackground": true,
            "ticks": "",
            "zerolinecolor": "#EBF0F8"
           }
          },
          "shapedefaults": {
           "line": {
            "color": "#2a3f5f"
           }
          },
          "ternary": {
           "aaxis": {
            "gridcolor": "#DFE8F3",
            "linecolor": "#A2B1C6",
            "ticks": ""
           },
           "baxis": {
            "gridcolor": "#DFE8F3",
            "linecolor": "#A2B1C6",
            "ticks": ""
           },
           "bgcolor": "white",
           "caxis": {
            "gridcolor": "#DFE8F3",
            "linecolor": "#A2B1C6",
            "ticks": ""
           }
          },
          "title": {
           "x": 0.05
          },
          "xaxis": {
           "automargin": true,
           "gridcolor": "#EBF0F8",
           "linecolor": "#EBF0F8",
           "ticks": "",
           "title": {
            "standoff": 15
           },
           "zerolinecolor": "#EBF0F8",
           "zerolinewidth": 2
          },
          "yaxis": {
           "automargin": true,
           "gridcolor": "#EBF0F8",
           "linecolor": "#EBF0F8",
           "ticks": "",
           "title": {
            "standoff": 15
           },
           "zerolinecolor": "#EBF0F8",
           "zerolinewidth": 2
          }
         }
        },
        "width": 1200,
        "xaxis": {
         "title": {
          "text": "Time (h)"
         }
        },
        "yaxis": {
         "title": {
          "text": "CFU"
         },
         "type": "log"
        }
       }
      }
     },
     "metadata": {},
     "output_type": "display_data"
    }
   ],
   "source": [
    "\n",
    "time_test = np.arange(0, 24, 0.1)    \n",
    "\n",
    "# Plot the results\n",
    "pop_vs_time_fig = go.Figure()\n",
    "for i in range(len(drug_conc)):\n",
    "    plotting_conc = drug_conc[i]\n",
    "    pop_vs_time_fig.add_trace(go.Scatter(\n",
    "        x = times,\n",
    "        y = values[i],\n",
    "        name = 'Obs. drug conc %s mg/kg' %(str(drug_conc[i])),\n",
    "        showlegend = True,\n",
    "        mode = 'markers',\n",
    "        marker = dict(size = 12, color = colorlist[i])\n",
    "    ))\n",
    "    pop_vs_time_fig.add_trace(go.Scatter(\n",
    "        x = time_test,\n",
    "        y = np.transpose(model.simulate(found_parameters, time_test))[i],\n",
    "        name = 'Pred. drug conc %s mg/kg' %(str(drug_conc[i])),\n",
    "        showlegend = True,\n",
    "        mode = 'lines',\n",
    "        line=dict(width = 1.5, color=colorlist[i])\n",
    "    ))\n",
    "pop_vs_time_fig.update_layout(height=800, width=1200,xaxis_title = 'Time (h)', yaxis_title='CFU', yaxis_type = 'log',template=\"plotly_white\", font = dict(size = 25, family = 'Times New Roman'))"
   ]
  },
  {
   "cell_type": "code",
   "execution_count": 4,
   "metadata": {},
   "outputs": [
    {
     "name": "stdout",
     "output_type": "stream",
     "text": [
      "Running...\n",
      "Using Haario-Bardenet adaptive covariance MCMC\n",
      "Generating 5 chains.\n",
      "Running in sequential mode.\n",
      "Writing chains to /Users/lavex/Documents/GitHub/Synth_data/notebooks_output/CompleteTK_LogCFUGaussianNoise_Chain_0.csv etc.\n",
      "Writing evaluations to /Users/lavex/Documents/GitHub/Synth_data/notebooks_output/CompleteTK_LogCFUGaussianNoise_PLogPDF_0.csv etc.\n",
      "Iter. Eval. Accept.   Accept.   Accept.   Accept.   Accept.   Time m:s\n",
      "0     5      0         0         0         0         0          0:00.1\n",
      "1     10     0.5       0         0         0         0          0:00.2\n",
      "2     15     0.667     0.333     0         0         0          0:00.3\n",
      "3     20     0.5       0.5       0         0         0          0:00.4\n",
      "20    105    0.143     0.238     0.238     0.19      0.238      0:01.4\n",
      "40    205    0.122     0.171     0.195122  0.0976    0.195122   0:02.8\n",
      "60    305    0.082     0.164     0.164     0.0656    0.131      0:03.8\n",
      "80    405    0.0741    0.123     0.136     0.0741    0.0988     0:04.7\n",
      "Initial phase completed.\n",
      "100   505    0.0891    0.119     0.109     0.109     0.0792     0:05.4\n",
      "120   605    0.116     0.14      0.107438  0.14      0.116      0:06.5\n",
      "140   705    0.128     0.128     0.106383  0.141844  0.106383   0:07.6\n",
      "160   805    0.143     0.13      0.136646  0.136646  0.112      0:08.6\n",
      "180   905    0.127     0.133     0.144     0.155     0.105      0:09.4\n",
      "200   1005   0.119403  0.134     0.164     0.179     0.0995     0:10.4\n",
      "220   1105   0.113     0.122     0.163     0.181     0.104      0:11.3\n",
      "240   1205   0.116     0.120332  0.149     0.174     0.112      0:12.2\n",
      "260   1305   0.107     0.115     0.157     0.161     0.111      0:13.0\n",
      "280   1405   0.103     0.117     0.16      0.149     0.107      0:14.0\n",
      "300   1505   0.0963    0.116     0.183     0.14      0.113      0:15.0\n",
      "320   1605   0.0903    0.134     0.178     0.134     0.118      0:16.0\n",
      "340   1705   0.088     0.15      0.167     0.129     0.129      0:17.1\n",
      "360   1805   0.0886    0.183     0.161     0.122     0.144      0:18.6\n",
      "380   1905   0.0866    0.197     0.155     0.115     0.163      0:19.9\n",
      "400   2005   0.0848    0.214     0.15      0.112     0.175      0:21.1\n",
      "420   2105   0.0808    0.223     0.143     0.109     0.181      0:22.2\n",
      "440   2205   0.0816    0.218     0.136     0.109     0.193      0:23.1\n",
      "460   2305   0.0803    0.208243  0.13      0.106     0.186551   0:23.9\n",
      "480   2405   0.0769    0.2       0.127     0.102     0.179      0:24.9\n",
      "500   2500   0.078     0.192     0.122     0.098     0.172      0:25.8\n",
      "Halting: Maximum number of iterations (500) reached.\n",
      "Done!\n"
     ]
    },
    {
     "data": {
      "text/plain": "(<Figure size 1728x1728 with 64 Axes>,\n array([[<AxesSubplot:ylabel='Frequency'>, <AxesSubplot:>, <AxesSubplot:>,\n         <AxesSubplot:>, <AxesSubplot:>, <AxesSubplot:>, <AxesSubplot:>,\n         <AxesSubplot:>],\n        [<AxesSubplot:ylabel='Parameter2'>, <AxesSubplot:>,\n         <AxesSubplot:>, <AxesSubplot:>, <AxesSubplot:>, <AxesSubplot:>,\n         <AxesSubplot:>, <AxesSubplot:>],\n        [<AxesSubplot:ylabel='Parameter3'>, <AxesSubplot:>,\n         <AxesSubplot:>, <AxesSubplot:>, <AxesSubplot:>, <AxesSubplot:>,\n         <AxesSubplot:>, <AxesSubplot:>],\n        [<AxesSubplot:ylabel='Parameter4'>, <AxesSubplot:>,\n         <AxesSubplot:>, <AxesSubplot:>, <AxesSubplot:>, <AxesSubplot:>,\n         <AxesSubplot:>, <AxesSubplot:>],\n        [<AxesSubplot:ylabel='Parameter5'>, <AxesSubplot:>,\n         <AxesSubplot:>, <AxesSubplot:>, <AxesSubplot:>, <AxesSubplot:>,\n         <AxesSubplot:>, <AxesSubplot:>],\n        [<AxesSubplot:ylabel='Parameter6'>, <AxesSubplot:>,\n         <AxesSubplot:>, <AxesSubplot:>, <AxesSubplot:>, <AxesSubplot:>,\n         <AxesSubplot:>, <AxesSubplot:>],\n        [<AxesSubplot:ylabel='Parameter7'>, <AxesSubplot:>,\n         <AxesSubplot:>, <AxesSubplot:>, <AxesSubplot:>, <AxesSubplot:>,\n         <AxesSubplot:>, <AxesSubplot:>],\n        [<AxesSubplot:xlabel='Parameter1', ylabel='Parameter8'>,\n         <AxesSubplot:xlabel='Parameter2'>,\n         <AxesSubplot:xlabel='Parameter3'>,\n         <AxesSubplot:xlabel='Parameter4'>,\n         <AxesSubplot:xlabel='Parameter5'>,\n         <AxesSubplot:xlabel='Parameter6'>,\n         <AxesSubplot:xlabel='Parameter7'>,\n         <AxesSubplot:xlabel='Parameter8'>]], dtype=object))"
     },
     "execution_count": 4,
     "metadata": {},
     "output_type": "execute_result"
    },
    {
     "data": {
      "image/png": "[encoded data removed]",
      "text/plain": "<Figure size 1728x1728 with 64 Axes>"
     },
     "metadata": {
      "needs_background": "light"
     },
     "output_type": "display_data"
    }
   ],
   "source": [
    "#%% Define loglikelihood \n",
    "\n",
    "class MultiGaussLogLikelihood(pints.ProblemLogLikelihood):\n",
    "    '''\n",
    "    Define a tailored log-Likelihood for our problem.\n",
    "    '''\n",
    "    def __init__(self, model, times, values, simulate_param):\n",
    "        # Using sum of squares error for all values\n",
    "        #\n",
    "        # model: pints.ForwardModel\n",
    "        # times: time series to simulate\n",
    "        # values: multiple series that match model with simulate_param\n",
    "        # simulate_param: parameters that correspond to each series in values\n",
    "        # super(LogLikelihoodWithNoise, self).__init__()\n",
    "        \n",
    "        self._model = model\n",
    "        self._dimension = self._model.dimension() + 1\n",
    "        self._n_parameters = self._model.n_parameters() + 2\n",
    "        self._times = times\n",
    "        self._np = 2\n",
    "        #print(str(len(values)))\n",
    "        #print(str(len(simulate_param)))\n",
    "        if len(values) == len(simulate_param):\n",
    "            self._values = np.asarray(values)\n",
    "            self._param = np.asarray(simulate_param)\n",
    "        else:\n",
    "            raise ValueError('Length of values must be the same as simulate_param')\n",
    "        self._size = len(self._times)\n",
    "        self._logn = 0.5 * self._size * np.log(2 * np.pi)\n",
    "\n",
    "    def dimension(self):\n",
    "        return self._dimension\n",
    "\n",
    "    def __call__(self, x):\n",
    "\n",
    "        total = 0\n",
    "        noise_parameters = x[-self._np:]\n",
    "        eta = np.asarray(noise_parameters[0::2])\n",
    "        sigma = np.asarray(noise_parameters[1::2])\n",
    "\n",
    "        # go through all simulation parameter (drug concentration)\n",
    "        for i in range(len(self._param)):\n",
    "            # simulate the model\n",
    "            sim_param=self._param[i]\n",
    "            drug_conc=self._param[i]\n",
    "            valuesSim = np.transpose(self._model.simulate(x[:-self._np], self._times))\n",
    "            valuesActual = self._values[i]\n",
    "\n",
    "            total += \\\n",
    "                -self._logn - np.sum(\n",
    "                    np.sum(np.log(valuesSim**eta * sigma), axis=0)\n",
    "                    + 0.5 / sigma**2 * np.sum(\n",
    "                        (valuesActual - valuesSim)**2\n",
    "                        / valuesSim ** (2 * eta), axis=0))\n",
    "            #error = np.log10(valuesSim) - np.log10(self._values[i])\n",
    "            # sum of square error for corresponding values\n",
    "            # total += self._logn + self._size * np.log(x[-1]) \\\n",
    "            #         + np.sum(error**2) / (2 * x[-1]**2)\n",
    "        return total\n",
    "\n",
    "class GaussLogLikelihood(pints.ProblemLogLikelihood):\n",
    "    '''\n",
    "    Define a tailored log-Likelihood for our problem.\n",
    "    '''\n",
    "    def __init__(self, model, times, values, simulate_param):\n",
    "        # Using sum of squares error for all values\n",
    "        #\n",
    "        # model: pints.ForwardModel\n",
    "        # times: time series to simulate\n",
    "        # values: multiple series that match model with simulate_param\n",
    "        # simulate_param: parameters that correspond to each series in values\n",
    "        # super(LogLikelihoodWithNoise, self).__init__()\n",
    "        \n",
    "        self._model = model\n",
    "        self._dimension = self._model.dimension() + 1\n",
    "        self._n_parameters = self._model.n_parameters() + 1\n",
    "        self._times = times\n",
    "        #print(str(len(values)))\n",
    "        #print(str(len(simulate_param)))\n",
    "        if len(values) == len(simulate_param):\n",
    "            self._values = np.asarray(values)\n",
    "            self._param = np.asarray(simulate_param)\n",
    "        else:\n",
    "            raise ValueError('Length of values must be the same as simulate_param')\n",
    "        self._size = len(self._times)\n",
    "        self._logn = 0.5 * self._size * np.log(2 * np.pi)\n",
    "\n",
    "    def dimension(self):\n",
    "        return self._dimension\n",
    "\n",
    "    def __call__(self, x):\n",
    "        # Note x[:-1] model parameters; x[-1] is noise.\n",
    "        total = 0\n",
    "        # go through all simulation parameter (drug concentration)\n",
    "        for i in range(len(self._param)):\n",
    "            # simulate the model\n",
    "            drug_conc=self._param[i]\n",
    "            sim_param=self._param[i]\n",
    "            \n",
    "            valuesSim = np.transpose(self._model.simulate(x, self._times))\n",
    "            \n",
    "            error = np.log10(valuesSim) - np.log10(self._values[i])\n",
    "            #error = log10(valuesSim) - log10(self._values[i])\n",
    "            # sum of square error for corresponding values\n",
    "            total += self._logn + self._size * np.log(x[-1]) \\\n",
    "                    + np.sum(error**2) / (2 * x[-1]**2)\n",
    "        return -1.0 * total\n",
    "#%% MCMC  on synthesized data \n",
    "Noise_sigma = 0.05\n",
    "Noise_eta = 0.01\n",
    "initialPoint=100 #Excessively small just so the Notebook runs faster, optimal value >10'000\n",
    "\n",
    "# ConstantAndMultiplicativeGaussianLogLikelihood\n",
    "log_likelihood = MultiGaussLogLikelihood(model, times, values, drug_conc)\n",
    "#pints.MultiplicativeGaussianLogLikelihood()\n",
    "# Starting point use optimised result\n",
    "\n",
    "#true params are [2.3, 1e9, 3.2, 0.5, 3.8, 44, 0.002, 3.1, 0.3, 2.8]\n",
    "log_prior = pints.UniformLogPrior([2,3,5,20,1,5,0,0] , [4,8,20,100,5,20,0.1,0.1])\n",
    "\n",
    "log_posterior = pints.LogPosterior(log_likelihood, log_prior)\n",
    "\n",
    "\n",
    "found_parameters_noise = np.array(list(found_parameters) + [Noise_eta] + [Noise_sigma])\n",
    "\n",
    "# Choose starting points for 5 mcmc chains\n",
    "xs = [\n",
    "    found_parameters_noise * 1,\n",
    "    found_parameters_noise * 0.9,\n",
    "    found_parameters_noise * 1.05,\n",
    "    found_parameters_noise * 0.95,\n",
    "    found_parameters_noise * 1.1,\n",
    "]\n",
    "\n",
    "# Create mcmc routine\n",
    "mcmc = pints.MCMCController(log_posterior, len(xs), xs, method=pints.HaarioBardenetACMC)\n",
    "\n",
    "# Add stopping criterion\n",
    "mcmc.set_max_iterations(500) #Excessively small just so the Notebook runs faster, optimal value >50'000\n",
    "\n",
    "# Start adapting after 10000 iterations\n",
    "mcmc.set_initial_phase_iterations(initialPoint)\n",
    "\n",
    "mcmc.set_chain_filename('/Users/lavex/Documents/GitHub/Synth_data/notebooks_output/CompleteTK_LogCFUGaussianNoise_Chain.csv')\n",
    "mcmc.set_log_pdf_filename('/Users/lavex/Documents/GitHub/Synth_data/notebooks_output/CompleteTK_LogCFUGaussianNoise_PLogPDF.csv')\n",
    "\n",
    "print('Running...')\n",
    "chains = mcmc.run()\n",
    "print('Done!')\n",
    "pints.plot.pairwise(np.vstack(chains), kde=False)\n"
   ]
  }
 ],
 "metadata": {
  "kernelspec": {
   "display_name": "Python 3.9.5 64-bit",
   "name": "python395jvsc74a57bd04cd7ab41f5fca4b9b44701077e38c5ffd31fe66a6cab21e0214b68d958d0e462"
  },
  "language_info": {
   "codemirror_mode": {
    "name": "ipython",
    "version": 3
   },
   "file_extension": ".py",
   "mimetype": "text/x-python",
   "name": "python",
   "nbconvert_exporter": "python",
   "pygments_lexer": "ipython3",
   "version": "3.9.5"
  },
  "metadata": {
   "interpreter": {
    "hash": "4cd7ab41f5fca4b9b44701077e38c5ffd31fe66a6cab21e0214b68d958d0e462"
   }
  },
  "orig_nbformat": 2
 },
 "nbformat": 4,
 "nbformat_minor": 2
}